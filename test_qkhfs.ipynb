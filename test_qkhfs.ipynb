{
 "cells": [
  {
   "cell_type": "markdown",
   "metadata": {},
   "source": [
    "### Check that Python and Matlab qkhfs produce the same numbers"
   ]
  },
  {
   "cell_type": "code",
   "execution_count": 1,
   "metadata": {},
   "outputs": [],
   "source": [
    "import numpy as np"
   ]
  },
  {
   "cell_type": "markdown",
   "metadata": {},
   "source": [
    "### qkhfs is defined in  `wave_funcs.py`"
   ]
  },
  {
   "cell_type": "code",
   "execution_count": 2,
   "metadata": {},
   "outputs": [],
   "source": [
    "%run -i wave_funcs.py"
   ]
  },
  {
   "cell_type": "code",
   "execution_count": 3,
   "metadata": {},
   "outputs": [],
   "source": [
    "step = .1\n",
    "T = 10.**(np.arange(np.log10(.5),np.log10(200.),step))\n",
    "h = 10.\n",
    "# Wavenumber\n",
    "w = 2.*np.pi/T\n",
    "kh = qkhfs(w,h)"
   ]
  },
  {
   "cell_type": "code",
   "execution_count": 4,
   "metadata": {},
   "outputs": [
    {
     "data": {
      "text/plain": [
       "array([12.56637061,  9.98182299,  7.92884383,  6.29810452,  5.00276225,\n",
       "        3.97383531,  3.15652958,  2.50732057,  1.99163552,  1.58201233,\n",
       "        1.25663706,  0.9981823 ,  0.79288438,  0.62981045,  0.50027622,\n",
       "        0.39738353,  0.31565296,  0.25073206,  0.19916355,  0.15820123,\n",
       "        0.12566371,  0.09981823,  0.07928844,  0.06298105,  0.05002762,\n",
       "        0.03973835,  0.0315653 ])"
      ]
     },
     "execution_count": 4,
     "metadata": {},
     "output_type": "execute_result"
    }
   ],
   "source": [
    "w"
   ]
  },
  {
   "cell_type": "code",
   "execution_count": 5,
   "metadata": {},
   "outputs": [
    {
     "data": {
      "text/plain": [
       "array([1.60972141e+02, 1.01566555e+02, 6.40841636e+01, 4.04343737e+01,\n",
       "       2.55123651e+01, 1.60972141e+01, 1.01566555e+01, 6.40845115e+00,\n",
       "       4.04591296e+00, 2.58066327e+00, 1.71702844e+00, 1.21273698e+00,\n",
       "       8.96684035e-01, 6.82040395e-01, 5.27606347e-01, 4.12300531e-01,\n",
       "       3.24191438e-01, 2.55884292e-01, 2.02448203e-01, 1.60408256e-01,\n",
       "       1.27216192e-01, 1.00951150e-01, 8.01381872e-02, 6.36309127e-02,\n",
       "       5.05312536e-02, 4.01321008e-02, 3.18749039e-02])"
      ]
     },
     "execution_count": 5,
     "metadata": {},
     "output_type": "execute_result"
    }
   ],
   "source": [
    "kh"
   ]
  },
  {
   "cell_type": "markdown",
   "metadata": {},
   "source": [
    "### Here is the same code in Matlab\n",
    "```\n",
    "T = 10.^( log10(.5):.1:log10(200.))\n",
    "h=10\n",
    "w = (2. *pi)./T\n",
    "kh = qkhfs(w, h)\n",
    "\n",
    "fid = fopen('matlab_results.txt','w')\n",
    "for i=1:length(T)\n",
    "   fprintf(fid,'%.8e, %.8e\\n',w(i),kh(i));\n",
    "end\n",
    "fclose(fid)\n",
    "```"
   ]
  },
  {
   "cell_type": "markdown",
   "metadata": {},
   "source": [
    "### and here are the Matlab results:\n",
    "\n",
    "```\n",
    "      w              kh\n",
    "1.25663706e+01, 1.60972141e+02\n",
    "9.98182299e+00, 1.01566555e+02\n",
    "7.92884383e+00, 6.40841636e+01\n",
    "6.29810452e+00, 4.04343737e+01\n",
    "5.00276225e+00, 2.55123651e+01\n",
    "3.97383531e+00, 1.60972141e+01\n",
    "3.15652958e+00, 1.01566555e+01\n",
    "2.50732057e+00, 6.40845115e+00\n",
    "1.99163552e+00, 4.04591296e+00\n",
    "1.58201233e+00, 2.58066327e+00\n",
    "1.25663706e+00, 1.71702844e+00\n",
    "9.98182299e-01, 1.21273698e+00\n",
    "7.92884383e-01, 8.96684035e-01\n",
    "6.29810452e-01, 6.82040395e-01\n",
    "5.00276225e-01, 5.27606347e-01\n",
    "3.97383531e-01, 4.12300531e-01\n",
    "3.15652958e-01, 3.24191438e-01\n",
    "2.50732057e-01, 2.55884292e-01\n",
    "1.99163552e-01, 2.02448203e-01\n",
    "1.58201233e-01, 1.60408256e-01\n",
    "1.25663706e-01, 1.27216192e-01\n",
    "9.98182299e-02, 1.00951150e-01\n",
    "7.92884383e-02, 8.01381872e-02\n",
    "6.29810452e-02, 6.36309127e-02\n",
    "5.00276225e-02, 5.05312536e-02\n",
    "3.97383531e-02, 4.01321008e-02\n",
    "3.15652958e-02, 3.18749039e-02\n",
    "```"
   ]
  },
  {
   "cell_type": "code",
   "execution_count": null,
   "metadata": {},
   "outputs": [],
   "source": []
  }
 ],
 "metadata": {
  "kernelspec": {
   "display_name": "Python 3",
   "language": "python",
   "name": "python3"
  },
  "language_info": {
   "codemirror_mode": {
    "name": "ipython",
    "version": 3
   },
   "file_extension": ".py",
   "mimetype": "text/x-python",
   "name": "python",
   "nbconvert_exporter": "python",
   "pygments_lexer": "ipython3",
   "version": "3.7.3"
  }
 },
 "nbformat": 4,
 "nbformat_minor": 2
}
