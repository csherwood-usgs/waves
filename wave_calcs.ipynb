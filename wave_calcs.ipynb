{
 "cells": [
  {
   "cell_type": "code",
   "execution_count": null,
   "metadata": {},
   "outputs": [],
   "source": []
  },
  {
   "cell_type": "code",
   "execution_count": null,
   "metadata": {},
   "outputs": [],
   "source": [
    "import numpy as np"
   ]
  },
  {
   "cell_type": "markdown",
   "metadata": {},
   "source": [
    "### All of the underlying functions are defined by running `wave_funcs.py`"
   ]
  },
  {
   "cell_type": "code",
   "execution_count": 48,
   "metadata": {},
   "outputs": [],
   "source": [
    "%run -i wave_funcs.py"
   ]
  },
  {
   "cell_type": "code",
   "execution_count": 70,
   "metadata": {},
   "outputs": [
    {
     "name": "stdout",
     "output_type": "stream",
     "text": [
      "Deepwater wave height Ho: 2.1 m\n",
      "Deepwater wavelength Lo: 99.9 m; celerity 12.5 m/s (27.9 mph)\n",
      "Wavelength in 26.0 m:  99.9 m; celerity 12.5 m/s (27.9 mph)\n",
      "Iribarren number: 0.51 plunging\n",
      "kh: 1.739, k: 0.067\n"
     ]
    }
   ],
   "source": [
    "# User input\n",
    "H = 2\n",
    "T = 8.\n",
    "h = 26.\n",
    "B = 1.5/20. # beach slope as fraction (rise/run)\n",
    "\n",
    "# End user input\n",
    "\n",
    "# Deepwater wave height from reverse shoaling\n",
    "Ho = reverse_shoal(H,T,h)\n",
    "print(\"Deepwater wave height Ho: {:.1f} m\".format(Ho))\n",
    "# Deepwater wavelength and celerity\n",
    "g = 9.81\n",
    "Lo = (g*T**2)/(2*np.pi)\n",
    "Co = (g*T)/(2*np.pi)\n",
    "print(\"Deepwater wavelength Lo: {:.1f} m; celerity {:.1f} m/s ({:.1f} mph)\".format(Lo, Co, Co*2.237))\n",
    "L = wavelength_L(T,h)\n",
    "print(\"Wavelength in {:.1f} m:  {:.1f} m; celerity {:.1f} m/s ({:.1f} mph)\".format(h, L, L/T, 2.237*L/T))\n",
    "\n",
    "# Iribarren number\n",
    "I,descr = iribarren(B,Ho,T,\"deepwater\")\n",
    "print(\"Iribarren number: {:.2f} {}\".format(I,descr))\n",
    "\n",
    "# Wavenumber\n",
    "w = 2*np.pi/T\n",
    "kh = qkhfs(w,h)\n",
    "print(\"kh: {:.3f}, k: {:.3f}\".format(kh, kh/h))"
   ]
  },
  {
   "cell_type": "code",
   "execution_count": 72,
   "metadata": {},
   "outputs": [
    {
     "data": {
      "text/plain": [
       "0.00846875"
      ]
     },
     "execution_count": 72,
     "metadata": {},
     "output_type": "execute_result"
    }
   ],
   "source": [
    "27.1/3200"
   ]
  }
 ],
 "metadata": {
  "kernelspec": {
   "display_name": "Python 3",
   "language": "python",
   "name": "python3"
  },
  "language_info": {
   "codemirror_mode": {
    "name": "ipython",
    "version": 3
   },
   "file_extension": ".py",
   "mimetype": "text/x-python",
   "name": "python",
   "nbconvert_exporter": "python",
   "pygments_lexer": "ipython3",
   "version": "3.7.3"
  }
 },
 "nbformat": 4,
 "nbformat_minor": 2
}
