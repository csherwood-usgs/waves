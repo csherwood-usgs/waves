{
 "cells": [
  {
   "cell_type": "code",
   "execution_count": null,
   "metadata": {},
   "outputs": [],
   "source": []
  },
  {
   "cell_type": "code",
   "execution_count": null,
   "metadata": {},
   "outputs": [],
   "source": [
    "import numpy as np"
   ]
  },
  {
   "cell_type": "markdown",
   "metadata": {},
   "source": [
    "### All of the underlying functions are defined by running `wave_funcs.py`"
   ]
  },
  {
   "cell_type": "code",
   "execution_count": 40,
   "metadata": {},
   "outputs": [],
   "source": [
    "%run -i wave_funcs.py"
   ]
  },
  {
   "cell_type": "code",
   "execution_count": 47,
   "metadata": {},
   "outputs": [
    {
     "name": "stdout",
     "output_type": "stream",
     "text": [
      "Deepwater wavelength Lo: 56.2 m; celerity 9.4 m/s (21.0 mph)\n",
      "Wavelength in 10.0 m:  45.8 m; celerity 7.6 m/s (17.1 mph)\n",
      "Iribarren number: 0.53 plunging\n",
      "kh: 1.298, k: 0.130\n"
     ]
    }
   ],
   "source": [
    "# User input\n",
    "H = .5\n",
    "T = 6.\n",
    "h = 10.\n",
    "B = .05 # beach slope as fraction (rise/run)\n",
    "\n",
    "# End user input\n",
    "\n",
    "# Deepwater wavelength and celerity\n",
    "g = 9.81\n",
    "Lo = (g*T**2)/(2*np.pi)\n",
    "Co = (g*T)/(2*np.pi)\n",
    "print(\"Deepwater wavelength Lo: {:.1f} m; celerity {:.1f} m/s ({:.1f} mph)\".format(Lo, Co, Co*2.237))\n",
    "L = wavelength_L(T,h)\n",
    "print(\"Wavelength in {:.1f} m:  {:.1f} m; celerity {:.1f} m/s ({:.1f} mph)\".format(h, L, L/T, 2.237*L/T))\n",
    "\n",
    "# Iribarren number\n",
    "I,descr = iribarren(B,H,T,\"deepwater\")\n",
    "print(\"Iribarren number: {:.2f} {}\".format(I,descr))\n",
    "\n",
    "# Wavenumber\n",
    "w = 2*np.pi/T\n",
    "kh = qkhfs(w,h)\n",
    "print(\"kh: {:.3f}, k: {:.3f}\".format(kh, kh/h))"
   ]
  },
  {
   "cell_type": "code",
   "execution_count": null,
   "metadata": {},
   "outputs": [],
   "source": []
  }
 ],
 "metadata": {
  "kernelspec": {
   "display_name": "Python 3",
   "language": "python",
   "name": "python3"
  },
  "language_info": {
   "codemirror_mode": {
    "name": "ipython",
    "version": 3
   },
   "file_extension": ".py",
   "mimetype": "text/x-python",
   "name": "python",
   "nbconvert_exporter": "python",
   "pygments_lexer": "ipython3",
   "version": "3.7.3"
  }
 },
 "nbformat": 4,
 "nbformat_minor": 2
}
