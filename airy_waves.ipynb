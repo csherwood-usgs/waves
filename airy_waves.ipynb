{
 "metadata": {
  "name": "airy_waves.ipynb"
 },
 "nbformat": 3,
 "nbformat_minor": 0,
 "worksheets": [
  {
   "cells": [
    {
     "cell_type": "code",
     "collapsed": false,
     "input": [
      "# Stokes waves\n",
      "def qkhfs( w, h ):\n",
      "    \"\"\"\n",
      "    Quick iterative calculation of kh in gravity-wave dispersion relationship\n",
      "    kh = qkhfs(w, h )\n",
      "    \n",
      "    Input\n",
      "        w - angular wave frequency = 2*pi/T where T = wave period [1/s]\n",
      "        h - water depth [m]\n",
      "    Returns\n",
      "        kh - wavenumber * depth [ ]\n",
      "\n",
      "    Orbital velocities from kh are accurate to 3e-12 !\n",
      "\n",
      "    RL Soulsby (2006) \\\"Simplified calculation of wave orbital velocities\\\"\n",
      "    HR Wallingford Report TR 155, February 2006\n",
      "    Eqns. 12a - 14\n",
      "    \"\"\"\n",
      "    g = 9.81\n",
      "    x = w**2.0 *h/g\n",
      "    y = sqrt(x) * (x<1.) + x *(x>=1.)\n",
      "    # is this faster than a loop?\n",
      "    t = tanh( y )\n",
      "    y = y-( (y*t -x)/(t+y*(1.0-t**2.0)))\n",
      "    t = tanh( y )\n",
      "    y = y-( (y*t -x)/(t+y*(1.0-t**2.0)))\n",
      "    t = tanh( y )\n",
      "    y = y-( (y*t -x)/(t+y*(1.0-t**2.0)))\n",
      "    kh = y\n",
      "    return kh\n",
      "\n",
      "def Stokes(H=4., T=12., h=15., g=9.81, z=0., iplot=1, n=21):\n",
      "    \"\"\"\n",
      "    \n",
      "    z is vertical location above sea floor\n",
      "       z = h is sea surface\n",
      "       z = 0  is bottom\n",
      "    (Not the same convention as Komar)\n",
      "    \"\"\"\n",
      "    print \"z=\",z,\"h=\",h\n",
      "    zk = -(h-z) # Komars z = -h at bottom, 0 at surface\n",
      "    print \"zk=\",zk\n",
      "    w = 2.*pi/T\n",
      "    kh = qkhfs( w, h )\n",
      "    k = kh/h\n",
      "    L = 2.*pi/k\n",
      "    print 'L=',L,', H/L=',H/L\n",
      "    C = (g/w)*tanh(kh) * (1.+pi*H/L)**2. * (5.+2.*cosh(4.*pi*h/L)+2.*cosh(4.*pi*h/L)**2)/ \\\n",
      "        8.*sinh((2*pi*h/L))**4\n",
      "    print 'C=',C       \n",
      "    kxwtlist = linspace( 0., 2*pi, n)\n",
      "    eta = zeros_like(kxwtlist)\n",
      "    u = zeros_like(kxwtlist)\n",
      "    uw = zeros_like(kxwtlist)\n",
      "    for i in range(len(kxwtlist)) :\n",
      "        kxwt = kxwtlist[i]\n",
      "        # note the four in the denominator is missing from Komar's eqn. on p. 163\n",
      "        eta[i] = 0.5*H*cos(-kxwt)+(0.5*pi*(H**2)/L)*cosh(kh)*(2.+cosh(2.*kh)/(4.*sinh(kh)**3))*cos(2.*-kxwt)\n",
      "        u[i] = pi*H/T * (cosh(k*(zk+h))/sinh(kh)) * cos(kxwt) + \\\n",
      "           .75*(pi*H/L)**2 * C * cosh(2*k*(zk+h))/sinh(kh)**4 * cos(2.*kxwt)\n",
      "        uw[i]= pi*H/T * (sinh(k*(zk+h))/sinh(kh)) * sin(-kxwt) + \\\n",
      "           .75*(pi*H/L)**2 * C * sinh(2*k*(zk+h))/sinh(kh)**4 * sin(2.*-kxwt) \n",
      "        #print '{0:4.2f} {1:5.2f} {2:5.2f} {3:5.2f}'.format(kxwt/pi, eta[i], u[i], uw[i])\n",
      "        \n",
      "    if(iplot):\n",
      "        plt.plot(kxwtlist/pi,eta)\n",
      "        plt.plot(kxwtlist/pi,u)\n",
      "        plt.plot(kxwtlist/pi,uw)\n",
      "    return\n",
      "\n",
      "def Airy(H=4., T=12., h=15., g=9.81, z=0., iplot=1, n=21):\n",
      "    \"\"\"\n",
      "    \n",
      "    z is vertical elevation above sea floor\n",
      "       z = h is sea surface\n",
      "       z = 0  is bottom\n",
      "    (Not the same convention as Komar)\n",
      "    \"\"\"\n",
      "    zk = -(h-z) # Komars z = -h at bottom, 0 at surface\n",
      "    print \"zk=\",zk\n",
      "    w = 2.*pi/T\n",
      "    kh = qkhfs( w, h )\n",
      "    k = kh/h\n",
      "    L = 2.*pi/k\n",
      "    print 'L=',L,', H/L=',H/L\n",
      "    C = (g/w)*tanh(kh)\n",
      "    print 'C=',C       \n",
      "    kxwtlist = linspace( 0., 2*pi, n)\n",
      "    eta = zeros_like(kxwtlist)\n",
      "    u = zeros_like(kxwtlist)\n",
      "    uw = zeros_like(kxwtlist)\n",
      "    for i in range(len(kxwtlist)) :\n",
      "        kxwt = kxwtlist[i]\n",
      "        eta[i] = 0.5*H*cos(kxwt)\n",
      "        u[i] = pi*H/T * (cosh(k*(zk+h))/sinh(kh)) * cos(kxwt)\n",
      "        uw[i] = pi*H/T * (sinh(k*(zk+h))/sinh(kh)) * sin(-kxwt)\n",
      "        #print '{0:4.2f} {1:5.2f} {2:5.2f} {3:5.2f}'.format(kxwt, eta[i], u[i], uw[i])\n",
      "\n",
      "    if(iplot):\n",
      "        plt.plot(kxwtlist/w,uw)\n",
      "    \n",
      "    return\n",
      "plt.figure()\n",
      "Stokes(z=15.,n=101)\n",
      "#Airy(z=15.)"
     ],
     "language": "python",
     "metadata": {},
     "outputs": [
      {
       "output_type": "stream",
       "stream": "stdout",
       "text": [
        "z= 15.0 h= 15.0\n",
        "zk= -0.0\n",
        "L= 135.352170543 , H/L= 0.029552536793\n",
        "C= 10.0158405088\n"
       ]
      },
      {
       "metadata": {},
       "output_type": "display_data",
       "png": "[encoded data removed]",
       "text": [
        "<matplotlib.figure.Figure at 0x7e95c88>"
       ]
      }
     ],
     "prompt_number": 24
    },
    {
     "cell_type": "code",
     "collapsed": false,
     "input": [
      "whos"
     ],
     "language": "python",
     "metadata": {},
     "outputs": [
      {
       "output_type": "stream",
       "stream": "stdout",
       "text": [
        "Variable   Type        Data/Info\n",
        "--------------------------------\n",
        "Airy       function    <function Airy at 0x0000000007F7D0B8>\n",
        "Stokes     function    <function Stokes at 0x0000000007F7D048>\n",
        "qkhfs      function    <function qkhfs at 0x0000000007F7D898>\n"
       ]
      }
     ],
     "prompt_number": 44
    }
   ],
   "metadata": {}
  }
 ]
}